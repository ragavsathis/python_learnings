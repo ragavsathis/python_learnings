{
 "cells": [
  {
   "cell_type": "markdown",
   "metadata": {},
   "source": [
    "# This is practise program from PyMoondra playlist"
   ]
  },
  {
   "cell_type": "code",
   "execution_count": 9,
   "metadata": {},
   "outputs": [],
   "source": [
    "import time\n",
    "import threadibng"
   ]
  },
  {
   "cell_type": "code",
   "execution_count": 12,
   "metadata": {},
   "outputs": [],
   "source": [
    "def sleeper_func_explicit_name(name, no_of_seconds):\n",
    "    print(f\"{name} is going to sleep for {no_of_seconds} seconds\")\n",
    "    time.sleep(no_of_seconds)\n",
    "    print(f\"{name} woke up after sleeping\")"
   ]
  },
  {
   "cell_type": "code",
   "execution_count": 13,
   "metadata": {},
   "outputs": [
    {
     "name": "stdout",
     "output_type": "stream",
     "text": [
      "Main_thread is going to sleep for 5 seconds\n",
      "Main_thread woke up after sleeping\n",
      "Task finished in 5.001565600003232 seconds\n"
     ]
    }
   ],
   "source": [
    "start_time = time.perf_counter()\n",
    "sleeper_func_explicit_name(\"Main_thread\", 5)\n",
    "end_time = time.perf_counter()\n",
    "\n",
    "print(f\"Task finished in {end_time - start_time} seconds\")"
   ]
  },
  {
   "cell_type": "markdown",
   "metadata": {},
   "source": [
    "## Introduce threading for starters"
   ]
  },
  {
   "cell_type": "code",
   "execution_count": 14,
   "metadata": {},
   "outputs": [
    {
     "name": "stdout",
     "output_type": "stream",
     "text": [
      "thread_1 is going to sleep for 5 seconds\n",
      "thread_2 is going to sleep for 5 seconds\n",
      "thread_3 is going to sleep for 5 seconds\n",
      "thread_4 is going to sleep for 5 seconds\n",
      "thread_5 is going to sleep for 5 seconds\n",
      "thread_1 woke up after sleeping\n",
      "thread_2 woke up after sleeping\n",
      "thread_3 woke up after sleeping\n",
      "thread_4 woke up after sleeping\n",
      "thread_5 woke up after sleeping\n",
      "Task finished in 5.021598099992843 seconds\n"
     ]
    }
   ],
   "source": [
    "# get 5 threads simultaneously to optimise multiple calls\n",
    "seconds_to_sleep = 5\n",
    "start_time = time.perf_counter()\n",
    "thread_list = list()\n",
    "\n",
    "#Re-using the sleeper_func_explicit_name function, \n",
    "for thread_index in range(1,6):\n",
    "    thread_name = \"thread_{}\".format(thread_index)\n",
    "    t = threading.Thread(target = sleeper_func_explicit_name, name = thread_name, \\\n",
    "                         args = (thread_name, seconds_to_sleep)) \n",
    "    t.start()\n",
    "    thread_list.append(t)\n",
    "    \n",
    "for thread in thread_list:\n",
    "    thread.join()\n",
    "    \n",
    "end_time = time.perf_counter()\n",
    "print(f\"Task finished in {end_time - start_time} seconds\")"
   ]
  },
  {
   "cell_type": "markdown",
   "metadata": {},
   "source": [
    "## Understanding about Daemon threads and concept of how main thread completion will impact the background threads running if not joined"
   ]
  },
  {
   "cell_type": "code",
   "execution_count": 21,
   "metadata": {},
   "outputs": [
    {
     "name": "stdout",
     "output_type": "stream",
     "text": [
      "Main thread name - MainThread\n",
      "Daemon_thread is going to sleep for 10 seconds\n",
      "Non_Daemon_thread is going to sleep for 5 seconds\n",
      "Non_Daemon_thread woke up after sleeping\n",
      "Daemon thread is still active\n"
     ]
    },
    {
     "ename": "SystemExit",
     "evalue": "",
     "output_type": "error",
     "traceback": [
      "An exception has occurred, use %tb to see the full traceback.\n",
      "\u001b[1;31mSystemExit\u001b[0m\n"
     ]
    },
    {
     "name": "stderr",
     "output_type": "stream",
     "text": [
      "c:\\users\\ragav\\appdata\\local\\programs\\python\\python37\\lib\\site-packages\\IPython\\core\\interactiveshell.py:3334: UserWarning: To exit: use 'exit', 'quit', or Ctrl-D.\n",
      "  warn(\"To exit: use 'exit', 'quit', or Ctrl-D.\", stacklevel=1)\n"
     ]
    },
    {
     "name": "stdout",
     "output_type": "stream",
     "text": [
      "Daemon_thread woke up after sleeping\n"
     ]
    }
   ],
   "source": [
    "import sys\n",
    "#Re-using the sleeper_func_explicit_name, to understand the daemon concept\n",
    "\n",
    "print(\"Main thread name - {}\".format(threading.currentThread().getName()))\n",
    "\n",
    "#set the daemon thread to sleep for 10 seconds\n",
    "daemon_thread = threading.Thread(name = \"Daemon_thread\",\n",
    "                                 target = sleeper_func_explicit_name,\n",
    "                                 args = (\"Daemon_thread\", 10))\n",
    "daemon_thread.setDaemon(True)\n",
    "\n",
    "#set the Non daemon thread to sleep for 5 seconds\n",
    "non_daemon_thread = threading.Thread(name = \"Non_Daemon_thread\",\n",
    "                                 target = sleeper_func_explicit_name,\n",
    "                                 args = (\"Non_Daemon_thread\", 5))\n",
    "\n",
    "daemon_thread.start()\n",
    "non_daemon_thread.start()\n",
    "\n",
    "# waiting for Non daemon thread to finish execution\n",
    "non_daemon_thread.join()\n",
    "daemon_thread.join(2)\n",
    "if daemon_thread.isAlive():\n",
    "    print(\"Daemon thread is still active\")\n",
    "sys.exit()"
   ]
  },
  {
   "cell_type": "code",
   "execution_count": null,
   "metadata": {},
   "outputs": [],
   "source": []
  }
 ],
 "metadata": {
  "kernelspec": {
   "display_name": "Python 3",
   "language": "python",
   "name": "python3"
  },
  "language_info": {
   "codemirror_mode": {
    "name": "ipython",
    "version": 3
   },
   "file_extension": ".py",
   "mimetype": "text/x-python",
   "name": "python",
   "nbconvert_exporter": "python",
   "pygments_lexer": "ipython3",
   "version": "3.7.4"
  }
 },
 "nbformat": 4,
 "nbformat_minor": 2
}
